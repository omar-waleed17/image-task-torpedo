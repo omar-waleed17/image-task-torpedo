{
 "cells": [
  {
   "cell_type": "code",
   "execution_count": 1,
   "metadata": {},
   "outputs": [],
   "source": [
    "import cv2"
   ]
  },
  {
   "cell_type": "code",
   "execution_count": 1,
   "metadata": {},
   "outputs": [
    {
     "name": "stdout",
     "output_type": "stream",
     "text": [
      "Point 1: (168, 82)\n",
      "Point 2: (80, 39)\n"
     ]
    }
   ],
   "source": [
    "import cv2\n",
    "\n",
    "def get_points(event, x, y, flags, param):\n",
    "    global point1, point2\n",
    "\n",
    "    if event == cv2.EVENT_LBUTTONDOWN:\n",
    "        if point1 is None:\n",
    "            point1 = (x, y)\n",
    "            print(f\"Point 1: {point1}\")\n",
    "        elif point2 is None:\n",
    "            point2 = (x, y)\n",
    "            print(f\"Point 2: {point2}\")\n",
    "\n",
    "           \n",
    "            cropped_image = image[min(point1[1], point2[1]):max(point1[1], point2[1]),\n",
    "                                min(point1[0], point2[0]):max(point1[0], point2[0])]\n",
    "\n",
    "            \n",
    "            cv2.imshow(\"Cropped Image\", cropped_image)\n",
    "\n",
    "            \n",
    "            cv2.imwrite(\"cropped_image.jpg\", cropped_image)\n",
    "\n",
    "           \n",
    "            point1 = None\n",
    "            point2 = None\n",
    "\n",
    "\n",
    "image_path = \"C:\\\\Users\\\\Omar\\\\Pictures\\\\images.jpg\"\n",
    "image = cv2.imread(image_path, cv2.IMREAD_COLOR)\n",
    "\n",
    "\n",
    "cv2.namedWindow(\"Image\")\n",
    "cv2.setMouseCallback(\"Image\", get_points)\n",
    "\n",
    "\n",
    "point1 = None\n",
    "point2 = None\n",
    "\n",
    "\n",
    "cv2.imshow(\"Image\", image)\n",
    "\n",
    "while True:\n",
    "    key = cv2.waitKey(1)\n",
    "    if key == 27:  \n",
    "        break\n",
    "\n",
    "\n",
    "cv2.destroyAllWindows()"
   ]
  },
  {
   "cell_type": "code",
   "execution_count": null,
   "metadata": {},
   "outputs": [],
   "source": []
  }
 ],
 "metadata": {
  "kernelspec": {
   "display_name": "Python 3",
   "language": "python",
   "name": "python3"
  },
  "language_info": {
   "codemirror_mode": {
    "name": "ipython",
    "version": 3
   },
   "file_extension": ".py",
   "mimetype": "text/x-python",
   "name": "python",
   "nbconvert_exporter": "python",
   "pygments_lexer": "ipython3",
   "version": "3.12.4"
  }
 },
 "nbformat": 4,
 "nbformat_minor": 2
}
