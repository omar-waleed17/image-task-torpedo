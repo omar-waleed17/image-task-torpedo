{
 "cells": [
  {
   "cell_type": "code",
   "execution_count": 1,
   "metadata": {},
   "outputs": [],
   "source": [
    "import numpy"
   ]
  },
  {
   "cell_type": "code",
   "execution_count": 2,
   "metadata": {},
   "outputs": [],
   "source": [
    "import cv2\n",
    "import numpy as np\n",
    "\n",
    "clicks = 0\n",
    "center = (-1, -1)\n",
    "circumference = (-1, -1)\n",
    "\n",
    "\n",
    "def draw_circle(event, x, y, flags, param):\n",
    "    global clicks, center, circumference, img\n",
    "\n",
    "    if event == cv2.EVENT_LBUTTONDOWN:\n",
    "        if clicks == 0:\n",
    "            center = (x, y)\n",
    "            clicks = 1\n",
    "        elif clicks == 1:\n",
    "            circumference = (x, y)\n",
    "            radius = int(((center[0] - circumference[0]) ** 2 + (center[1] - circumference[1]) ** 2) ** 0.5)\n",
    "            cv2.circle(img, center, radius, (0, 255, 0), 2)\n",
    "            cv2.imshow('image', img)\n",
    "            clicks = 0  \n",
    "\n",
    "\n",
    "img_path = r\"C:\\Users\\Omar\\Pictures\\images.jpg\"\n",
    "img = cv2.imread(img_path)\n",
    "if img is None:\n",
    "    raise FileNotFoundError(\"Image file not found. Make sure the path is correct.\")\n",
    "\n",
    "\n",
    "cv2.namedWindow('image')\n",
    "cv2.setMouseCallback('image', draw_circle)\n",
    "\n",
    "while True:\n",
    "    cv2.imshow('image', img)\n",
    "    if cv2.waitKey(1) & 0xFF == 27:  \n",
    "        break\n",
    "\n",
    "cv2.destroyAllWindows()\n"
   ]
  }
 ],
 "metadata": {
  "kernelspec": {
   "display_name": ".venv",
   "language": "python",
   "name": "python3"
  },
  "language_info": {
   "codemirror_mode": {
    "name": "ipython",
    "version": 3
   },
   "file_extension": ".py",
   "mimetype": "text/x-python",
   "name": "python",
   "nbconvert_exporter": "python",
   "pygments_lexer": "ipython3",
   "version": "3.12.4"
  }
 },
 "nbformat": 4,
 "nbformat_minor": 2
}
