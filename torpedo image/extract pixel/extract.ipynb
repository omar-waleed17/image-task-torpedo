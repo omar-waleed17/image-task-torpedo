{
 "cells": [
  {
   "cell_type": "code",
   "execution_count": 1,
   "metadata": {},
   "outputs": [],
   "source": [
    "import numpy"
   ]
  },
  {
   "cell_type": "code",
   "execution_count": 6,
   "metadata": {},
   "outputs": [],
   "source": [
    "import cv2\n",
    "import numpy as np\n",
    "\n",
    "def extract_color_by_clicking(image_path):\n",
    "    img = cv2.imread(image_path)\n",
    "\n",
    "    def click_event(event, x, y, flags, param):\n",
    "        if event == cv2.EVENT_LBUTTONDOWN:\n",
    "      \n",
    "            color = img[y, x]\n",
    "\n",
    "          \n",
    "            lower_bound = np.array(color - 20)\n",
    "            upper_bound = np.array(color + 20)\n",
    "\n",
    "            \n",
    "            mask = cv2.inRange(img, lower_bound, upper_bound)\n",
    "\n",
    "            \n",
    "            result = cv2.bitwise_and(img, img, mask=mask)\n",
    "\n",
    "     \n",
    "            cv2.imshow('Result', result)\n",
    "            cv2.waitKey(0)\n",
    "\n",
    "    cv2.imshow('Image', img)\n",
    "    cv2.setMouseCallback('Image', click_event)\n",
    "    cv2.waitKey(0)\n",
    "    cv2.destroyAllWindows()\n",
    "\n",
    "if __name__ == \"__main__\":\n",
    "    image_path = r\"C:\\Users\\Omar\\Pictures\\image4.png\"\n",
    "    extract_color_by_clicking(image_path)"
   ]
  }
 ],
 "metadata": {
  "kernelspec": {
   "display_name": "Python 3",
   "language": "python",
   "name": "python3"
  },
  "language_info": {
   "codemirror_mode": {
    "name": "ipython",
    "version": 3
   },
   "file_extension": ".py",
   "mimetype": "text/x-python",
   "name": "python",
   "nbconvert_exporter": "python",
   "pygments_lexer": "ipython3",
   "version": "3.12.4"
  }
 },
 "nbformat": 4,
 "nbformat_minor": 2
}
